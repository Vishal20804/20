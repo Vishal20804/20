{
 "cells": [
  {
   "cell_type": "code",
   "execution_count": 1,
   "id": "52098ec8-bd26-42a8-b8f4-c6f1119bb70a",
   "metadata": {},
   "outputs": [
    {
     "name": "stdout",
     "output_type": "stream",
     "text": [
      "0     4\n",
      "1     8\n",
      "2    15\n",
      "3    16\n",
      "4    23\n",
      "5    42\n",
      "dtype: int64\n"
     ]
    }
   ],
   "source": [
    "#ans:1\n",
    "import pandas as pd\n",
    "\n",
    "# create the series\n",
    "data = [4, 8, 15, 16, 23, 42]\n",
    "series = pd.Series(data)\n",
    "\n",
    "# print the series\n",
    "print(series)\n"
   ]
  },
  {
   "cell_type": "code",
   "execution_count": 2,
   "id": "effd3f2b-bac5-4123-aa99-8f4eae6af39d",
   "metadata": {},
   "outputs": [
    {
     "name": "stdout",
     "output_type": "stream",
     "text": [
      "0     1\n",
      "1     2\n",
      "2     3\n",
      "3     4\n",
      "4     5\n",
      "5     6\n",
      "6     7\n",
      "7     8\n",
      "8     9\n",
      "9    10\n",
      "dtype: int64\n"
     ]
    }
   ],
   "source": [
    "#ans:2\n",
    "import pandas as pd\n",
    "\n",
    "# create a list\n",
    "my_list = [1, 2, 3, 4, 5, 6, 7, 8, 9, 10]\n",
    "\n",
    "# create a Pandas Series from the list\n",
    "my_series = pd.Series(my_list)\n",
    "\n",
    "# print the series\n",
    "print(my_series)\n"
   ]
  },
  {
   "cell_type": "code",
   "execution_count": 3,
   "id": "a0b81304-dd85-4be5-bdca-a89d374fc830",
   "metadata": {},
   "outputs": [
    {
     "name": "stdout",
     "output_type": "stream",
     "text": [
      "     NAME  AGE  GENDER\n",
      "0   ALICE   25    MALE\n",
      "1     BOB   30  FEMALE\n",
      "2  CLAIRE   27    MALE\n"
     ]
    }
   ],
   "source": [
    "#ans:3\n",
    "import pandas as pd\n",
    "data={'NAME':['ALICE','BOB','CLAIRE']\n",
    "     ,'AGE':[25,30,27],\n",
    "     'GENDER':['MALE','FEMALE','MALE']}\n",
    "df=pd.DataFrame(data)\n",
    "print(df)"
   ]
  },
  {
   "cell_type": "code",
   "execution_count": null,
   "id": "2983247d-f7e6-4778-a183-29056c43af2d",
   "metadata": {},
   "outputs": [],
   "source": [
    "#ans:4\n",
    "\n",
    "In Pandas, a DataFrame is a two-dimensional labeled data structure that is used to represent data in a tabular form, similar to a spreadsheet or SQL table. It is a collection of Pandas Series that have the same length and are aligned by their index.\n",
    "\n",
    "On the other hand, a Series is a one-dimensional labeled array that can hold any data type (integer, float, string, etc.) and has an associated index that labels each element in the array.\n",
    "\n",
    "Here's an example to illustrate the difference between DataFrame and Series:\n",
    "import pandas as pd\n",
    "\n",
    "# create a Pandas Series\n",
    "my_series = pd.Series([1, 2, 3, 4, 5], name='MySeries')\n",
    "\n",
    "# create a Pandas DataFrame from the Series\n",
    "my_dataframe = pd.DataFrame({'MyDataFrame': my_series})\n",
    "\n",
    "# print both the Series and the DataFrame\n",
    "print('Series:')\n",
    "print(my_series)\n",
    "print('\\nDataFrame:')\n",
    "print(my_dataframe)"
   ]
  },
  {
   "cell_type": "code",
   "execution_count": null,
   "id": "83df8f5b-8cb6-40ed-9761-3d51d19ec06e",
   "metadata": {},
   "outputs": [],
   "source": [
    "#ans:5\n",
    "Pandas provides a wide range of functions for manipulating and analyzing data in a DataFrame. Here are some common functions that you can use:\n",
    "\n",
    "head() and tail(): These functions allow you to view the first or last n rows of a DataFrame, respectively. This can be useful to get a quick overview of the data, especially for large datasets.\n",
    "\n",
    "info(): This function displays a summary of the DataFrame, including its shape, data types, and memory usage. It can help you understand the structure of your data and identify any potential issues or inconsistencies.\n",
    "\n",
    "describe(): This function provides a statistical summary of the numerical columns in the DataFrame, including the mean, standard deviation, and quartiles. It can be useful to get a sense of the distribution of the data.\n",
    "\n",
    "drop(): This function allows you to remove rows or columns from the DataFrame. You might use this if you have missing or irrelevant data that you want to exclude from your analysis.\n",
    "\n",
    "fillna(): This function allows you to replace missing values in the DataFrame with a specified value or a method such as forward or backward fill. This can help you clean your data and ensure that you can use it for analysis.\n",
    "\n",
    "groupby(): This function allows you to group the data by one or more columns and apply a function to each group. This can be useful for aggregating data or computing statistics for subsets of the data.\n",
    "\n"
   ]
  },
  {
   "cell_type": "code",
   "execution_count": null,
   "id": "b3d4654d-3616-42b9-a0ef-352d89b35ece",
   "metadata": {},
   "outputs": [],
   "source": [
    "#ans:6\n",
    "\n",
    "In Pandas, both Series and DataFrame are mutable, while Panel is considered deprecated and is not recommended for use anymore.\n",
    "\n",
    "When you modify a Series or DataFrame, the original object is modified in place, and any changes made are reflected in the original object. In contrast, immutable objects cannot be modified after they are created.\n",
    "import pandas as pd\n",
    "\n",
    "# create a Pandas Series\n",
    "my_series = pd.Series([1, 2, 3, 4, 5])\n",
    "\n",
    "# modify a value in the Series\n",
    "my_series[2] = 10\n",
    "\n",
    "# print the modified Series\n",
    "print(my_series)\n"
   ]
  },
  {
   "cell_type": "code",
   "execution_count": null,
   "id": "db5ccfde-81bf-4c9d-9714-54250a2cd1d8",
   "metadata": {},
   "outputs": [],
   "source": [
    "#ans:7\n",
    "import pandas as pd\n",
    "\n",
    "# create the first Series\n",
    "names = pd.Series(['Alice', 'Bob', 'Charlie', 'David'])\n",
    "\n",
    "# create the second Series\n",
    "ages = pd.Series([25, 30, 27, 28])\n",
    "\n",
    "# create the third Series\n",
    "cities = pd.Series(['New York', 'Paris', 'London', 'Sydney'])\n",
    "\n",
    "# create the DataFrame from the three Series\n",
    "df = pd.DataFrame({'Name': names, 'Age': ages, 'City': cities})\n",
    "\n",
    "# print the DataFrame\n",
    "print(df)\n"
   ]
  }
 ],
 "metadata": {
  "kernelspec": {
   "display_name": "Python 3 (ipykernel)",
   "language": "python",
   "name": "python3"
  },
  "language_info": {
   "codemirror_mode": {
    "name": "ipython",
    "version": 3
   },
   "file_extension": ".py",
   "mimetype": "text/x-python",
   "name": "python",
   "nbconvert_exporter": "python",
   "pygments_lexer": "ipython3",
   "version": "3.10.8"
  }
 },
 "nbformat": 4,
 "nbformat_minor": 5
}
